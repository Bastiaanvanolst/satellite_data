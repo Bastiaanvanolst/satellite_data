{
 "metadata": {
  "language_info": {
   "codemirror_mode": {
    "name": "ipython",
    "version": 3
   },
   "file_extension": ".py",
   "mimetype": "text/x-python",
   "name": "python",
   "nbconvert_exporter": "python",
   "pygments_lexer": "ipython3",
   "version": 3
  },
  "orig_nbformat": 2
 },
 "nbformat": 4,
 "nbformat_minor": 2,
 "cells": [
  {
   "source": [
    "# Our Artificial Satellite Population\n",
    "\n",
    "*The following is an exploration of the satellite population data provided by the European Space Agency's DISCOS (Database and Information System Characterising Objects in Space) API (https://discosweb.esoc.esa.int/). The python modules used to interact with and plot data from the database can be found on my github (https://github.com/jamesgrimmett/satellite_data).*"
   ],
   "cell_type": "markdown",
   "metadata": {}
  },
  {
   "cell_type": "code",
   "execution_count": null,
   "metadata": {},
   "outputs": [],
   "source": []
  }
 ]
}